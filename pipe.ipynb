{
 "cells": [
  {
   "cell_type": "code",
   "execution_count": 88,
   "id": "8ceb0a1a",
   "metadata": {
    "ExecuteTime": {
     "end_time": "2022-10-02T12:13:00.467407Z",
     "start_time": "2022-10-02T12:13:00.460873Z"
    }
   },
   "outputs": [],
   "source": [
    "import numpy as np\n",
    "import pandas as pd\n",
    "import matplotlib as plt\n",
    "from lightgbm import LGBMClassifier\n",
    "from catboost import CatBoostClassifier\n",
    "from sklearn.linear_model import LogisticRegression\n",
    "from sklearn.metrics import roc_auc_score,precision_recall_curve\n",
    "from sklearn.model_selection import train_test_split\n",
    "from sklearn.preprocessing import OneHotEncoder, StandardScaler, OrdinalEncoder\n",
    "from sklearn.compose import ColumnTransformer\n",
    "from sklearn.model_selection import GridSearchCV\n"
   ]
  },
  {
   "cell_type": "code",
   "execution_count": 89,
   "id": "1fec1b0b",
   "metadata": {
    "ExecuteTime": {
     "end_time": "2022-10-02T12:13:00.844187Z",
     "start_time": "2022-10-02T12:13:00.678561Z"
    }
   },
   "outputs": [
    {
     "name": "stdout",
     "output_type": "stream",
     "text": [
      "pipe.ipynb   turnover.csv\r\n"
     ]
    }
   ],
   "source": [
    "! ls"
   ]
  },
  {
   "cell_type": "code",
   "execution_count": 95,
   "id": "c8a202c1",
   "metadata": {
    "ExecuteTime": {
     "end_time": "2022-10-02T12:13:14.379363Z",
     "start_time": "2022-10-02T12:13:14.367617Z"
    }
   },
   "outputs": [],
   "source": [
    "data = pd.read_csv('turnover.csv', encoding = 'ISO-8859-1')"
   ]
  },
  {
   "cell_type": "code",
   "execution_count": 96,
   "id": "39c941b4",
   "metadata": {
    "ExecuteTime": {
     "end_time": "2022-10-02T12:13:14.716092Z",
     "start_time": "2022-10-02T12:13:14.678683Z"
    }
   },
   "outputs": [
    {
     "data": {
      "text/html": [
       "<div>\n",
       "<style scoped>\n",
       "    .dataframe tbody tr th:only-of-type {\n",
       "        vertical-align: middle;\n",
       "    }\n",
       "\n",
       "    .dataframe tbody tr th {\n",
       "        vertical-align: top;\n",
       "    }\n",
       "\n",
       "    .dataframe thead th {\n",
       "        text-align: right;\n",
       "    }\n",
       "</style>\n",
       "<table border=\"1\" class=\"dataframe\">\n",
       "  <thead>\n",
       "    <tr style=\"text-align: right;\">\n",
       "      <th></th>\n",
       "      <th>stag</th>\n",
       "      <th>event</th>\n",
       "      <th>gender</th>\n",
       "      <th>age</th>\n",
       "      <th>industry</th>\n",
       "      <th>profession</th>\n",
       "      <th>traffic</th>\n",
       "      <th>coach</th>\n",
       "      <th>head_gender</th>\n",
       "      <th>greywage</th>\n",
       "      <th>way</th>\n",
       "      <th>extraversion</th>\n",
       "      <th>independ</th>\n",
       "      <th>selfcontrol</th>\n",
       "      <th>anxiety</th>\n",
       "      <th>novator</th>\n",
       "    </tr>\n",
       "  </thead>\n",
       "  <tbody>\n",
       "    <tr>\n",
       "      <th>0</th>\n",
       "      <td>7.030801</td>\n",
       "      <td>1</td>\n",
       "      <td>m</td>\n",
       "      <td>35.0</td>\n",
       "      <td>Banks</td>\n",
       "      <td>HR</td>\n",
       "      <td>rabrecNErab</td>\n",
       "      <td>no</td>\n",
       "      <td>f</td>\n",
       "      <td>white</td>\n",
       "      <td>bus</td>\n",
       "      <td>6.2</td>\n",
       "      <td>4.1</td>\n",
       "      <td>5.7</td>\n",
       "      <td>7.1</td>\n",
       "      <td>8.3</td>\n",
       "    </tr>\n",
       "    <tr>\n",
       "      <th>1</th>\n",
       "      <td>22.965092</td>\n",
       "      <td>1</td>\n",
       "      <td>m</td>\n",
       "      <td>33.0</td>\n",
       "      <td>Banks</td>\n",
       "      <td>HR</td>\n",
       "      <td>empjs</td>\n",
       "      <td>no</td>\n",
       "      <td>m</td>\n",
       "      <td>white</td>\n",
       "      <td>bus</td>\n",
       "      <td>6.2</td>\n",
       "      <td>4.1</td>\n",
       "      <td>5.7</td>\n",
       "      <td>7.1</td>\n",
       "      <td>8.3</td>\n",
       "    </tr>\n",
       "    <tr>\n",
       "      <th>2</th>\n",
       "      <td>15.934292</td>\n",
       "      <td>1</td>\n",
       "      <td>f</td>\n",
       "      <td>35.0</td>\n",
       "      <td>PowerGeneration</td>\n",
       "      <td>HR</td>\n",
       "      <td>rabrecNErab</td>\n",
       "      <td>no</td>\n",
       "      <td>m</td>\n",
       "      <td>white</td>\n",
       "      <td>bus</td>\n",
       "      <td>6.2</td>\n",
       "      <td>6.2</td>\n",
       "      <td>2.6</td>\n",
       "      <td>4.8</td>\n",
       "      <td>8.3</td>\n",
       "    </tr>\n",
       "    <tr>\n",
       "      <th>3</th>\n",
       "      <td>15.934292</td>\n",
       "      <td>1</td>\n",
       "      <td>f</td>\n",
       "      <td>35.0</td>\n",
       "      <td>PowerGeneration</td>\n",
       "      <td>HR</td>\n",
       "      <td>rabrecNErab</td>\n",
       "      <td>no</td>\n",
       "      <td>m</td>\n",
       "      <td>white</td>\n",
       "      <td>bus</td>\n",
       "      <td>5.4</td>\n",
       "      <td>7.6</td>\n",
       "      <td>4.9</td>\n",
       "      <td>2.5</td>\n",
       "      <td>6.7</td>\n",
       "    </tr>\n",
       "    <tr>\n",
       "      <th>4</th>\n",
       "      <td>8.410678</td>\n",
       "      <td>1</td>\n",
       "      <td>m</td>\n",
       "      <td>32.0</td>\n",
       "      <td>Retail</td>\n",
       "      <td>Commercial</td>\n",
       "      <td>youjs</td>\n",
       "      <td>yes</td>\n",
       "      <td>f</td>\n",
       "      <td>white</td>\n",
       "      <td>bus</td>\n",
       "      <td>3.0</td>\n",
       "      <td>4.1</td>\n",
       "      <td>8.0</td>\n",
       "      <td>7.1</td>\n",
       "      <td>3.7</td>\n",
       "    </tr>\n",
       "    <tr>\n",
       "      <th>...</th>\n",
       "      <td>...</td>\n",
       "      <td>...</td>\n",
       "      <td>...</td>\n",
       "      <td>...</td>\n",
       "      <td>...</td>\n",
       "      <td>...</td>\n",
       "      <td>...</td>\n",
       "      <td>...</td>\n",
       "      <td>...</td>\n",
       "      <td>...</td>\n",
       "      <td>...</td>\n",
       "      <td>...</td>\n",
       "      <td>...</td>\n",
       "      <td>...</td>\n",
       "      <td>...</td>\n",
       "      <td>...</td>\n",
       "    </tr>\n",
       "    <tr>\n",
       "      <th>1124</th>\n",
       "      <td>10.611910</td>\n",
       "      <td>0</td>\n",
       "      <td>f</td>\n",
       "      <td>41.0</td>\n",
       "      <td>Banks</td>\n",
       "      <td>HR</td>\n",
       "      <td>rabrecNErab</td>\n",
       "      <td>my head</td>\n",
       "      <td>m</td>\n",
       "      <td>white</td>\n",
       "      <td>bus</td>\n",
       "      <td>8.6</td>\n",
       "      <td>3.4</td>\n",
       "      <td>2.6</td>\n",
       "      <td>4.8</td>\n",
       "      <td>8.3</td>\n",
       "    </tr>\n",
       "    <tr>\n",
       "      <th>1125</th>\n",
       "      <td>10.611910</td>\n",
       "      <td>0</td>\n",
       "      <td>f</td>\n",
       "      <td>41.0</td>\n",
       "      <td>Banks</td>\n",
       "      <td>HR</td>\n",
       "      <td>rabrecNErab</td>\n",
       "      <td>my head</td>\n",
       "      <td>m</td>\n",
       "      <td>white</td>\n",
       "      <td>bus</td>\n",
       "      <td>8.6</td>\n",
       "      <td>3.4</td>\n",
       "      <td>2.6</td>\n",
       "      <td>4.8</td>\n",
       "      <td>8.3</td>\n",
       "    </tr>\n",
       "    <tr>\n",
       "      <th>1126</th>\n",
       "      <td>118.800821</td>\n",
       "      <td>0</td>\n",
       "      <td>f</td>\n",
       "      <td>34.0</td>\n",
       "      <td>Telecom</td>\n",
       "      <td>Accounting</td>\n",
       "      <td>KA</td>\n",
       "      <td>no</td>\n",
       "      <td>f</td>\n",
       "      <td>white</td>\n",
       "      <td>bus</td>\n",
       "      <td>4.6</td>\n",
       "      <td>5.5</td>\n",
       "      <td>7.2</td>\n",
       "      <td>6.3</td>\n",
       "      <td>3.7</td>\n",
       "    </tr>\n",
       "    <tr>\n",
       "      <th>1127</th>\n",
       "      <td>49.412731</td>\n",
       "      <td>0</td>\n",
       "      <td>f</td>\n",
       "      <td>51.0</td>\n",
       "      <td>Consult</td>\n",
       "      <td>HR</td>\n",
       "      <td>empjs</td>\n",
       "      <td>no</td>\n",
       "      <td>m</td>\n",
       "      <td>grey</td>\n",
       "      <td>bus</td>\n",
       "      <td>3.8</td>\n",
       "      <td>7.6</td>\n",
       "      <td>5.7</td>\n",
       "      <td>6.3</td>\n",
       "      <td>5.2</td>\n",
       "    </tr>\n",
       "    <tr>\n",
       "      <th>1128</th>\n",
       "      <td>24.837782</td>\n",
       "      <td>0</td>\n",
       "      <td>f</td>\n",
       "      <td>29.0</td>\n",
       "      <td>Retail</td>\n",
       "      <td>HR</td>\n",
       "      <td>youjs</td>\n",
       "      <td>no</td>\n",
       "      <td>f</td>\n",
       "      <td>white</td>\n",
       "      <td>car</td>\n",
       "      <td>9.4</td>\n",
       "      <td>1.2</td>\n",
       "      <td>4.1</td>\n",
       "      <td>5.6</td>\n",
       "      <td>6.7</td>\n",
       "    </tr>\n",
       "  </tbody>\n",
       "</table>\n",
       "<p>1129 rows × 16 columns</p>\n",
       "</div>"
      ],
      "text/plain": [
       "            stag  event gender   age         industry  profession  \\\n",
       "0       7.030801      1      m  35.0            Banks          HR   \n",
       "1      22.965092      1      m  33.0            Banks          HR   \n",
       "2      15.934292      1      f  35.0  PowerGeneration          HR   \n",
       "3      15.934292      1      f  35.0  PowerGeneration          HR   \n",
       "4       8.410678      1      m  32.0           Retail  Commercial   \n",
       "...          ...    ...    ...   ...              ...         ...   \n",
       "1124   10.611910      0      f  41.0            Banks          HR   \n",
       "1125   10.611910      0      f  41.0            Banks          HR   \n",
       "1126  118.800821      0      f  34.0          Telecom  Accounting   \n",
       "1127   49.412731      0      f  51.0          Consult          HR   \n",
       "1128   24.837782      0      f  29.0           Retail          HR   \n",
       "\n",
       "          traffic    coach head_gender greywage  way  extraversion  independ  \\\n",
       "0     rabrecNErab       no           f    white  bus           6.2       4.1   \n",
       "1           empjs       no           m    white  bus           6.2       4.1   \n",
       "2     rabrecNErab       no           m    white  bus           6.2       6.2   \n",
       "3     rabrecNErab       no           m    white  bus           5.4       7.6   \n",
       "4           youjs      yes           f    white  bus           3.0       4.1   \n",
       "...           ...      ...         ...      ...  ...           ...       ...   \n",
       "1124  rabrecNErab  my head           m    white  bus           8.6       3.4   \n",
       "1125  rabrecNErab  my head           m    white  bus           8.6       3.4   \n",
       "1126           KA       no           f    white  bus           4.6       5.5   \n",
       "1127        empjs       no           m     grey  bus           3.8       7.6   \n",
       "1128        youjs       no           f    white  car           9.4       1.2   \n",
       "\n",
       "      selfcontrol  anxiety  novator  \n",
       "0             5.7      7.1      8.3  \n",
       "1             5.7      7.1      8.3  \n",
       "2             2.6      4.8      8.3  \n",
       "3             4.9      2.5      6.7  \n",
       "4             8.0      7.1      3.7  \n",
       "...           ...      ...      ...  \n",
       "1124          2.6      4.8      8.3  \n",
       "1125          2.6      4.8      8.3  \n",
       "1126          7.2      6.3      3.7  \n",
       "1127          5.7      6.3      5.2  \n",
       "1128          4.1      5.6      6.7  \n",
       "\n",
       "[1129 rows x 16 columns]"
      ]
     },
     "execution_count": 96,
     "metadata": {},
     "output_type": "execute_result"
    }
   ],
   "source": [
    "data"
   ]
  },
  {
   "cell_type": "code",
   "execution_count": 100,
   "id": "ee65e738",
   "metadata": {
    "ExecuteTime": {
     "end_time": "2022-10-02T12:13:50.311961Z",
     "start_time": "2022-10-02T12:13:50.304153Z"
    }
   },
   "outputs": [],
   "source": [
    "X_train, X_test, y_train, y_test = train_test_split(data.drop('event', axis=1),data['event'], test_size=0.3)"
   ]
  },
  {
   "cell_type": "code",
   "execution_count": 101,
   "id": "4ce7364d",
   "metadata": {
    "ExecuteTime": {
     "end_time": "2022-10-02T12:13:51.504347Z",
     "start_time": "2022-10-02T12:13:51.485850Z"
    }
   },
   "outputs": [],
   "source": [
    "class preprocessing:\n",
    "    def __init__(self, cat, num, is_linear, fill_func = np.mean):\n",
    "        \n",
    "\n",
    "        \n",
    "        self.cat = cat\n",
    "        self.num = num\n",
    "        self.is_linear = is_linear\n",
    "        self.to_binarize = None\n",
    "        \n",
    "        self.fill_func = fill_func\n",
    "        self.fill_values = None\n",
    "        if is_linear:\n",
    "            self.column_transformer = ColumnTransformer([\n",
    "                ('ohe', OneHotEncoder(handle_unknown=\"ignore\"), self.cat),\n",
    "                ('scaling', StandardScaler(), self.num)\n",
    "            ])\n",
    "        else: \n",
    "            self.column_transformer = ColumnTransformer([\n",
    "                ('ordinal', OrdinalEncoder(handle_unknown='use_encoded_value',\n",
    "                                           unknown_value = -1), self.cat),\n",
    "                ('chill', 'passthrough', self.num)\n",
    "                \n",
    "            ])\n",
    "                    \n",
    "    def fit_transform(self, df):\n",
    "        \n",
    "        self.to_binarize = np.array(df.columns)[(df.isna().sum() / df.shape[0] > 0.5).values]\n",
    "        df[self.to_binarize] = df[self.to_binarize].isna().astype(int)\n",
    "        \n",
    "        if self.is_linear:\n",
    "            self.fill_values = dict(self.fill_func(df[self.num]))\n",
    "            df[self.num] = df[self.num].fillna(value = self.fill_values)\n",
    "        else: \n",
    "            print\n",
    "            df[self.num] = df[self.num].fillna(value = -1000)\n",
    "\n",
    "        df[self.cat] = df[self.cat].fillna(-1000)\n",
    "        df = self.column_transformer.fit_transform(df)\n",
    "        return df\n",
    "    \n",
    "    def transform(self, df):\n",
    "        df[self.to_binarize] = df[self.to_binarize].isna().astype(int)\n",
    "        df[self.cat] = df[self.cat].fillna(-1)\n",
    "        df[self.num] = df[self.num].fillna(value = self.fill_values)\n",
    "        df = self.column_transformer.transform(df)\n",
    "        return df\n",
    "        "
   ]
  },
  {
   "cell_type": "code",
   "execution_count": 102,
   "id": "10d83049",
   "metadata": {
    "ExecuteTime": {
     "end_time": "2022-10-02T12:13:52.011427Z",
     "start_time": "2022-10-02T12:13:52.001044Z"
    }
   },
   "outputs": [],
   "source": [
    "class pipe():\n",
    "    def __init__(self,\n",
    "                 model,\n",
    "                 is_linear : bool):\n",
    "        self.model = model\n",
    "        self.final_model = None\n",
    "        self.prep = None\n",
    "        self.is_linear = is_linear\n",
    "    \n",
    "    def fit(self, X_train,\n",
    "                  y_train,\n",
    "                  params : dict,\n",
    "                  cat : list,\n",
    "                  num : list,\n",
    "                  cv : int = 5):\n",
    "        \n",
    "\n",
    "        self.prep = preprocessing(cat=cat, num=num, is_linear= self.is_linear)\n",
    "        X_train = self.prep.fit_transform(X_train)\n",
    "        self.final_model = GridSearchCV(self.model,\n",
    "                                        params,\n",
    "                                        cv=cv,\n",
    "                                        scoring='roc_auc',\n",
    "                                        return_train_score=False,\n",
    "                                        verbose = 1,\n",
    "                                        n_jobs = -1)\n",
    "        self.final_model.fit(X_train, y_train)\n",
    "        print('-----------------------------------------------')\n",
    "        print(f'best_params is {self.final_model.best_params_}')\n",
    "        print(f'best_score is {self.final_model.best_score_}')\n",
    "        print()\n",
    "        return\n",
    "    "
   ]
  },
  {
   "cell_type": "code",
   "execution_count": 103,
   "id": "045d66bb",
   "metadata": {
    "ExecuteTime": {
     "end_time": "2022-10-02T12:14:01.343071Z",
     "start_time": "2022-10-02T12:14:01.339385Z"
    }
   },
   "outputs": [],
   "source": [
    "categories = ['gender', 'industry', 'profession',\n",
    "              'traffic', 'coach', 'head_gender', 'greywage', 'way']\n",
    "numeric = list(set(X_train.columns) - set(categories))"
   ]
  },
  {
   "cell_type": "code",
   "execution_count": 104,
   "id": "89e4a5b9",
   "metadata": {
    "ExecuteTime": {
     "end_time": "2022-10-02T12:14:03.743160Z",
     "start_time": "2022-10-02T12:14:01.971382Z"
    }
   },
   "outputs": [
    {
     "name": "stdout",
     "output_type": "stream",
     "text": [
      "Fitting 5 folds for each of 9 candidates, totalling 45 fits\n",
      "-----------------------------------------------\n",
      "best_params is {'C': 0.5, 'max_iter': 100}\n",
      "best_score is 0.6505227373571789\n",
      "\n"
     ]
    }
   ],
   "source": [
    "lr = pipe(LogisticRegression(),\n",
    "          is_linear=True)\n",
    "params = {'C' : [1.0, 0.5, 0.2], 'max_iter' : [100,200,500]}\n",
    "lr.fit(X_train, y_train, params, categories, numeric)"
   ]
  },
  {
   "cell_type": "code",
   "execution_count": 105,
   "id": "a74fa2db",
   "metadata": {
    "ExecuteTime": {
     "end_time": "2022-10-02T12:14:07.444676Z",
     "start_time": "2022-10-02T12:14:04.677203Z"
    },
    "scrolled": false
   },
   "outputs": [
    {
     "name": "stdout",
     "output_type": "stream",
     "text": [
      "Fitting 5 folds for each of 27 candidates, totalling 135 fits\n",
      "[LightGBM] [Warning] Accuracy may be bad since you didn't explicitly set num_leaves OR 2^max_depth > num_leaves. (num_leaves=31).\n",
      "-----------------------------------------------\n",
      "best_params is {'learning_rate': 0.5, 'max_depth': 10, 'n_estimators': 500}\n",
      "best_score is 0.7125735212552229\n",
      "\n"
     ]
    }
   ],
   "source": [
    "lgbm = pipe(LGBMClassifier(),\n",
    "            is_linear=False)\n",
    "params = {'learning_rate' : [0.1, 0.5, 1], 'n_estimators' : [100, 500, 1000], 'max_depth' : [5,10,15]}\n",
    "lgbm.fit(X_train, y_train, params, categories, numeric)"
   ]
  },
  {
   "cell_type": "code",
   "execution_count": null,
   "id": "d552c790",
   "metadata": {},
   "outputs": [],
   "source": []
  }
 ],
 "metadata": {
  "kernelspec": {
   "display_name": "myenv",
   "language": "python",
   "name": "myenv"
  },
  "language_info": {
   "codemirror_mode": {
    "name": "ipython",
    "version": 3
   },
   "file_extension": ".py",
   "mimetype": "text/x-python",
   "name": "python",
   "nbconvert_exporter": "python",
   "pygments_lexer": "ipython3",
   "version": "3.8.8"
  }
 },
 "nbformat": 4,
 "nbformat_minor": 5
}
